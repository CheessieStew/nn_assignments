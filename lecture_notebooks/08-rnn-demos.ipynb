{
 "cells": [
  {
   "cell_type": "markdown",
   "metadata": {},
   "source": [
    "# Recurrent neural networks\n",
    "\n",
    "## Motivation\n",
    "\n",
    "Up to now we used neural networks to learn functions that predicted a desired output $y$ based on an input vector $x$. We have assumed that $x$ has a constant size, such as an image of a given resolution.\n",
    "\n",
    "In contrast, recurrent networks can be applied to sequences of different length.\n",
    "\n",
    "Consider the problem of computing the parity checksum of a sequence of bits. Traditional neural networks that we know can not be applied to bit sequences of arbitrary length, yet a program which reads in the sequence bit-by-bit is very easy to write. \n",
    "\n",
    "Another motivating example is sequence generation, such as generating text or music. Again, normal neural networks that take a fixed input size are not directly applicable to whole sequences.\n",
    "\n",
    "## Autoregressive models\n",
    "\n",
    "An autoregressive model assumes, that the $i$-th element of a sequence depends only on a few preceding sequence elements. Lets first write the exact probability of observing a sequence $\\mathbf{Y} = [Y_1, Y_2, \\ldots, Y_m]$:\n",
    "\n",
    "$$\n",
    "    P(\\mathbf{Y}) = P(Y_1)P(Y_2|Y_1)P(Y_3|Y_1, Y_2)\\ldots P(Y_m|Y1,Y_2,\\ldots,Y_{n-1})=\\prod_i P(Y_i|Y_1,\\ldots, Y_{i-1})\n",
    "$$\n",
    "\n",
    "The autoregressive model simply assumes that we can use only a finite history, that is:\n",
    "$$\n",
    "    P(Y_i|Y_1,\\ldots, Y_{i-1}) \\approx P(Y_i|Y_{i-n},\\ldots, Y_{i-1})\n",
    "$$\n",
    "\n",
    "Autoregressive models are quite frequently used, because they are easy to implement - it is sufficient extract $n$ element long subsequences and learn a model that predicts the last element given the $n-1$ preceding ones. Thus autoregressive models reduce the sequence learning problem to the typicall supervised learning setup\n",
    "\n",
    "### Examples\n",
    "\n",
    "Autoregressive models are very popular, for instance:\n",
    "\n",
    "1. Language models (that is models which tell how probable is a given utterance) are often expressed as $n$-gram models in which $P(Y_i|Y_{i-n},\\ldots, Y_{i-1})$ is simply established by counting occurrences in a corpus of text.\n",
    "2. The ARMA model used in timeseries prediction is expressed as:\n",
    "    $$\n",
    "        Y_t = \\sum_{i=1}^{n}\\alpha_i Y_{t-i} + \\sum_{i=1}^k \\Theta_i \\epsilon_{t-i},\n",
    "    $$\n",
    "    where $\\epsilon_i$ are assumed to be normally distributed noise variables.\n",
    "    \n",
    "## Models with a hidden state\n",
    "\n",
    "Autoregressive models have a very short memory which limits their applicability. We can build a more powerfull model by introducing a sequence of hidden states $\\mathbf{H} = [H_0, H_1, \\ldots]$. We will assume that all history of a sequence can be captured by the state:\n",
    "\n",
    "$$\n",
    "    P(Y_i|Y_1,\\ldots, Y_{i-1}) \\approx P(Y_i|Y_{i-n}, H_{i-1})\n",
    "$$\n",
    "\n",
    "\n",
    "### Recurrent neural networks\n",
    "\n",
    "Recurrent neural networks are a generalization of the model with the hidden state. We will assume that there is an input sequence $\\mathbb{X}$. The network will process the elements of $\\mathbb{X}$  one at a time producing a sequence of hidden states and a sequence of outputs. We will train the model by specifying the desired outputs. We will be able to supervise the model at each step (which is common e.g. in sequence generators which are taught to predict the next sequence element) or only at the end (which can be used in the parity computing network).\n",
    "\n",
    "Define a recurrent computation:\n",
    "\n",
    "$$\n",
    "\\begin{align}\n",
    "    H_t &= f(X_t, H_{t-1}) \\\\\n",
    "    Y_t &= g(X_t, H_t)\n",
    "\\end{align}\n",
    "$$\n",
    "\n",
    "In a recurrent neural network the function $f$ and $g$ are implemented as multilayer neural networks.\n",
    "\n",
    "### Backpropagation through time\n",
    "\n",
    "The last question is how to train such a recurrent network? The typicall approach is to *unroll the network in time*, then compute the loss and backpropagate it over the time steps. Gradient backpropagation algorithm works, thus in principle training doesn't require new skill. Hovewer, the unrolled network is very deep (its depth equals to the number of time steps!) and quite pathological, because the same weight matrices are reused at all times. For this reasons recurrent networks suffer from two problems:\n",
    "\n",
    "1. Gradient vanishing, when the gradient drops to zero and no training is possible.\n",
    "2. Gradient explosion, when the gradient grows really quickly and a single step can destroy the network.\n",
    "\n",
    "The two problems are related. Consider the following recurrency:\n",
    "\n",
    "$$\n",
    "    H_t = W_{hh}H_{t-1} = (W_{hh})^t H_0\n",
    "$$\n",
    "\n",
    "Suppose $H_0$ is an eigenvector - then depending on the magnitude of the associated eigenvalue the hidden state will either exponentially grow or decay! Of course, the network will typically have sone nonlinearities that will prevent the explosion of the hiden state. However, the backpropagation computation is linear (because all nonlinearities are linerized at the operating point). Thus the gradient is very prone to explode or implode!\n",
    "\n",
    "### Solutions to gradient pathologies\n",
    "\n",
    "#### Echo-state networks\n",
    "The first solution to training recurrent networks is... not to train the recurrent connections! This approach is taken in the *echo state networks* which perform the following computation:\n",
    "\n",
    "$$\n",
    "    \\begin{align}\n",
    "        H_t &= \\tanh(W_{xh}X_t + W_{hh} H_{t-1} + b_h) \\\\\n",
    "        O_t &= W_{xo}X_t + W_{ho}H_T + b_o\n",
    "    \\end{align}\n",
    "$$\n",
    "\n",
    "The training procedure is as follows:\n",
    "\n",
    "1. Randomly sample $W_{hh}$ and $W_{xh}$.\n",
    "2. Rescale $W_{hh}$ to have the largest eigenvalue close to 1\n",
    "3. Fit the $W_{xo}$ and $W{ho}$ using the closed-form formula for least squares\n",
    "4. Since steps 1.-3. are super-fast, repeat them multiple times with different scaling of $W_{hh}$ and $W_{xh}$.\n",
    "\n",
    "Because $W_{hh}$ has the largest eigenvalue sligtly less than 1, the hidden states oscillate and decay slowly. This creates \"echoes\" of previous inputs that reverberate in the network.\n",
    "\n",
    "#### Gradient clipping\n",
    "\n",
    "Gradient explosion can be prevented by rescaling gradients that are larger than a specified threshold. You can either clip individual components of the gradient, or rescale the whole gradient.\n",
    "\n",
    "#### LSTM cells\n",
    "\n",
    "LSTM's are important! They contributed a lot to recent sucesses of recurrent neural networks!\n",
    "\n",
    "For introduction and intuitions please see http://colah.github.io/posts/2015-08-Understanding-LSTMs/\n",
    "\n",
    "For more in-depth analysis please look at: http://www.jmlr.org/proceedings/papers/v37/jozefowicz15.pdf and http://arxiv.org/pdf/1503.04069v1.pdf\n",
    "\n",
    "The core idea of LSTM is to introduce multiplicative *gates* that enable long pathways of nearly constant values/gradients of memory cells that we will denote $c$. The core equations of LSTM are:\n",
    "\n",
    "$$\n",
    "\\begin{align}\n",
    "    i_t &= \\sigma(W_{xi}X_t + W_{hi}H_{t-1} + W_{ci}c_{t-1} + b_i) \\\\\n",
    "    f_t &= \\sigma(W_{xf}X_t + W_{hf}H_{t-1} + W_{cf}c_{t-1} + b_f) \\\\\n",
    "    c_t &= f_t c_{t-1} + i_t\\tanh(W_{xc}X_t + W_{hc}H_{t-1} + b_i) \\\\\n",
    "    o_t &= \\sigma(W_{xo}X_t + W_{ho}H_{t-1} + W_{co}c_{t} + b_o) \\\\\n",
    "    H_t &= o_t \\tanh(c_t)\n",
    "\\end{align}\n",
    "$$\n",
    "\n",
    "#### Multilayer and bi-directional LSTM networks\n",
    "\n",
    "It is possible to stack several LSTM layers (see the code below). Likewise, it is common to invert the input sequence to run the LSTM backward in time. Then the forward and backward hidden states give a summary of the sequence around a certain element.\n",
    "\n",
    "### Tricks of the trade\n",
    "\n",
    "1. Use train rules that allow per-parameter learnign rates (e.g. RMSProp)\n",
    "2. Monitor gradient magnitude!\n",
    "3. Initialization is important:\n",
    "    - it often helps to orthogonalize recurent weights and rescale to have the largest eigenvalue close to 1. This is similar to hidden-to-hidden weights in echo state networks\n",
    "    - forget-gate biases in LSTMs are ofetn initialized to 1 instead of 0. This enhances information retention at the beginning of training\n",
    "4. Learning interdependencies across many time steps is difficult. If possible train on short (or othervise simple) sequences first (this is often called \"curriculum learning\")"
   ]
  },
  {
   "cell_type": "code",
   "execution_count": 1,
   "metadata": {},
   "outputs": [
    {
     "name": "stdout",
     "output_type": "stream",
     "text": [
      "Populating the interactive namespace from numpy and matplotlib\n"
     ]
    }
   ],
   "source": [
    "%pylab inline"
   ]
  },
  {
   "cell_type": "code",
   "execution_count": 2,
   "metadata": {
    "collapsed": true
   },
   "outputs": [],
   "source": [
    "debug = True # global var to control debugging\n",
    "CUDA = False"
   ]
  },
  {
   "cell_type": "code",
   "execution_count": 3,
   "metadata": {
    "collapsed": true
   },
   "outputs": [],
   "source": [
    "import os"
   ]
  },
  {
   "cell_type": "code",
   "execution_count": 4,
   "metadata": {},
   "outputs": [],
   "source": [
    "import torch\n",
    "import torch.tensor as T\n",
    "\n",
    "from torch.autograd import Variable\n",
    "from torch.nn.parameter import Parameter\n",
    "\n",
    "from torch.nn import functional as F\n",
    "\n",
    "def V(np_var, **kwargs):\n",
    "    t = torch.from_numpy(np_var)\n",
    "    if CUDA:\n",
    "        t = t.cuda()\n",
    "    return Variable(t, **kwargs)"
   ]
  },
  {
   "cell_type": "markdown",
   "metadata": {},
   "source": [
    "## RNN implementation in PyTorch\n",
    "\n",
    "Please note that PyTorch has RNN implementations (http://pytorch.org/docs/master/nn.html#recurrent-layers). The goal of this notebook is to demonstrate the basics of RNNs. For future projects please use the built-in mudules. They have more features, and are faster (they use the CuDNN library supplied by Nvidia).\n",
    "\n",
    "**Attention**: through the code we will assume that the 0-th axis refers to time and that the 1-st axis refers to individual examples inside a minibatch. (This way in a C-major memory layout individual time steps occupy contiguous regions in memory)"
   ]
  },
  {
   "cell_type": "code",
   "execution_count": 5,
   "metadata": {},
   "outputs": [],
   "source": [
    "class SimpleRNNCell(torch.nn.Module):\n",
    "    def __init__(self, in_dim, hidden_dim, activation=torch.nn.Tanh(), **kwargs):\n",
    "        super(SimpleRNNCell, self).__init__(**kwargs)\n",
    "        \n",
    "        self.activation = activation\n",
    "        # Input to hidden\n",
    "        self.Wxh = Parameter(torch.Tensor(in_dim, hidden_dim))\n",
    "        \n",
    "        # Hidden to hidden\n",
    "        self.Whh = Parameter(torch.Tensor(hidden_dim, hidden_dim))\n",
    "        \n",
    "        # Hidden bias\n",
    "        self.bh = Parameter(torch.Tensor(hidden_dim))\n",
    "        self.reset_parameters()\n",
    "\n",
    "    def reset_parameters(self):\n",
    "        stdv = 1. / math.sqrt(self.Whh.size(1))\n",
    "        self.Wxh.data.uniform_(-stdv, stdv)\n",
    "        self.Whh.data.uniform_(-stdv, stdv)\n",
    "        self.bh.data.zero_()\n",
    "    \n",
    "    def forward(self, input, h):\n",
    "        pre_act = (\n",
    "            self.bh +\n",
    "            torch.matmul(input, self.Wxh) + \n",
    "            torch.matmul(h, self.Whh)\n",
    "        )\n",
    "        return self.activation(pre_act)\n",
    "            \n",
    "\n",
    "class RNN(torch.nn.Module):\n",
    "    def __init__(self, cell, **kwargs):\n",
    "        super(RNN, self).__init__(**kwargs)\n",
    "        self.cell = cell\n",
    "\n",
    "    def forward(self, input, hidden):\n",
    "        cell = self.cell\n",
    "        output = []\n",
    "        for i in range(input.size(0)):\n",
    "            hidden = cell(input[i], hidden)\n",
    "            # hack to handle LSTM\n",
    "            output.append(hidden[0] if isinstance(hidden, tuple) else hidden)\n",
    "\n",
    "        output = torch.cat(output, 0).view(input.size(0), *output[0].size())\n",
    "\n",
    "        return hidden, output"
   ]
  },
  {
   "cell_type": "markdown",
   "metadata": {},
   "source": [
    "# The parity task\n",
    "\n",
    "Here we solve the bit parity problem. Note that we will need at least two hidden neurons, because the network has to solve a XOR problem at each step."
   ]
  },
  {
   "cell_type": "code",
   "execution_count": 39,
   "metadata": {},
   "outputs": [
    {
     "name": "stdout",
     "output_type": "stream",
     "text": [
      "X.T: [[ 1.  1.  0.  0.  1.  1.  1.  1.  1.  1.  0.  1.  1.  0.  1.  1.  1.  0.]] \n",
      "Y.T: [[ 1.  0.  0.  0.  1.  0.  1.  0.  1.  0.  0.  1.  0.  0.  1.  0.  1.  1.]]\n"
     ]
    }
   ],
   "source": [
    "def gen_parity_examples(time_steps, batch_size):\n",
    "    X = (numpy.random.rand(time_steps, batch_size, 1)>0.5).astype('float32')\n",
    "    Y = X.cumsum(0) % 2\n",
    "    return X,Y\n",
    "\n",
    "\n",
    "Xp,Yp = gen_parity_examples(18, 1)\n",
    "print('X.T:', Xp.reshape(Xp.shape[:-1]).T, '\\nY.T:', Yp.reshape(Yp.shape[:-1]).T)"
   ]
  },
  {
   "cell_type": "code",
   "execution_count": 40,
   "metadata": {},
   "outputs": [
    {
     "data": {
      "text/plain": [
       "(18, 1, 1)"
      ]
     },
     "execution_count": 40,
     "metadata": {},
     "output_type": "execute_result"
    }
   ],
   "source": [
    "Xp.shape"
   ]
  },
  {
   "cell_type": "code",
   "execution_count": 42,
   "metadata": {},
   "outputs": [
    {
     "name": "stdout",
     "output_type": "stream",
     "text": [
      "O Variable containing:\n",
      "-0.0942 -0.2125\n",
      " 0.0058 -0.3019\n",
      " 0.0601 -0.1213\n",
      "-0.0099 -0.0431\n",
      "-0.0794 -0.2301\n",
      " 0.0008 -0.3070\n",
      "-0.0303 -0.3277\n",
      "-0.0076 -0.3380\n",
      "-0.0188 -0.3397\n",
      "-0.0118 -0.3413\n",
      " 0.0787 -0.1388\n",
      "-0.1111 -0.2582\n",
      " 0.0254 -0.3202\n",
      " 0.0524 -0.1267\n",
      "-0.0983 -0.2561\n",
      " 0.0174 -0.3182\n",
      "-0.0377 -0.3303\n",
      " 0.0915 -0.1370\n",
      "[torch.FloatTensor of size 18x2]\n",
      "\n"
     ]
    }
   ],
   "source": [
    "# The input variable - a 3D tensor with axes:\n",
    "# time x batch_size x num_features\n",
    "\n",
    "hidden_dim = 2\n",
    "test_net = RNN(SimpleRNNCell(in_dim=1, hidden_dim=hidden_dim))\n",
    "\n",
    "h0 = np.zeros((1, hidden_dim), dtype='float32')  # 1 sequence in batch, 1 hidden dim\n",
    "hn, O = test_net(V(Xp), V(h0))\n",
    "\n",
    "print('O', O.squeeze())"
   ]
  },
  {
   "cell_type": "code",
   "execution_count": 43,
   "metadata": {
    "collapsed": true
   },
   "outputs": [],
   "source": [
    "class ParityNet(torch.nn.Module):\n",
    "    def __init__(self, hidden_dim, **kwargs):\n",
    "        super(ParityNet, self).__init__(**kwargs)\n",
    "        self.hidden_dim = hidden_dim\n",
    "        self.rnn = RNN(\n",
    "            cell=SimpleRNNCell(in_dim=1, hidden_dim=hidden_dim,\n",
    "                               activation=torch.nn.Sigmoid()))\n",
    "        self.linear = torch.nn.Linear(in_features=1 + hidden_dim,\n",
    "                                      out_features=1)\n",
    "        \n",
    "    def forward(self, inputs):\n",
    "        h0 = np.zeros((inputs.size(1), self.hidden_dim),\n",
    "                      dtype='float32')\n",
    "        _, H = self.rnn(inputs, V(h0))\n",
    "        # concatenate inputs and hidden states\n",
    "        inputs_and_H = torch.cat((inputs, H), dim=2)\n",
    "        return F.sigmoid(self.linear(inputs_and_H))"
   ]
  },
  {
   "cell_type": "code",
   "execution_count": 44,
   "metadata": {},
   "outputs": [
    {
     "name": "stdout",
     "output_type": "stream",
     "text": [
      "        X:  [ 1.  1.  0.  0.  1.  1.  1.  1.  1.  1.  0.  1.  1.  0.  1.  1.  1.  0.]\n",
      "predicted:  [ 1.  0.  0.  0.  1.  0.  1.  0.  1.  0.  0.  1.  0.  0.  1.  0.  1.  1.]\n",
      "        Y:  [ 1.  0.  0.  0.  1.  0.  1.  0.  1.  0.  0.  1.  0.  0.  1.  0.  1.  1.]\n"
     ]
    }
   ],
   "source": [
    "parity_net = ParityNet(hidden_dim=2)\n",
    "\n",
    "#\n",
    "# Design the net to solve parity\n",
    "#\n",
    "parity_net.rnn.cell.Wxh.data[...\n",
    "    ] = torch.FloatTensor([[2000, 1000]])\n",
    "parity_net.rnn.cell.Whh.data[...\n",
    "    ] = torch.FloatTensor([[ 1000,  1000],\n",
    "                           [-1000, -1000]])\n",
    "parity_net.rnn.cell.bh.data[...\n",
    "    ] = torch.FloatTensor([-500, -1500])\n",
    "\n",
    "parity_net.linear.weight.data[...\n",
    "    ] = torch.FloatTensor([[ 0],\n",
    "                           [ 1000],\n",
    "                           [-1000]])\n",
    "parity_net.linear.bias.data[...\n",
    "    ] = torch.FloatTensor([-500])\n",
    "    \n",
    "predictions = parity_net(V(Xp)).data.numpy().squeeze()\n",
    "print('        X: ', Xp.squeeze())\n",
    "print('predicted: ', predictions)\n",
    "print('        Y: ', Yp.squeeze())"
   ]
  },
  {
   "cell_type": "code",
   "execution_count": 45,
   "metadata": {},
   "outputs": [],
   "source": [
    "class Trainer(object):\n",
    "    def __init__(self, network):\n",
    "        # If full_supervision == True, supervice net outputs at all steps\n",
    "        # if full_supervision == False, supervise net outputs at the last\n",
    "        # step only\n",
    "        self.full_supervision = True\n",
    "        \n",
    "        # When the total gradient is above this value, scale it down\n",
    "        self.max_grad_norm = 1.0\n",
    "        \n",
    "        self.network = network\n",
    "        \n",
    "        # RMSprop stuff\n",
    "        self.lrate = 1e-2\n",
    "        self.RMSProp_dec_rate = 0.9\n",
    "        self.RMSProp_epsilon = 1e-5\n",
    "        self.gnorms = [torch.zeros(*p.size())\n",
    "                       for p in self.network.parameters()]\n",
    "    \n",
    "    def train_step(self, X, Y):\n",
    "        X = V(X)\n",
    "        Y = V(Y)\n",
    "        net = self.network\n",
    "        net.zero_grad()\n",
    "        # predictions\n",
    "        P = net(X)\n",
    "        if self.full_supervision:\n",
    "            loss = torch.mean((P - Y)**2)\n",
    "        else:\n",
    "            loss = torch.mean((P[-1] - Y[-1])**2)\n",
    "        loss.backward()\n",
    "        \n",
    "        tot_gnorm = torch.FloatTensor((0.0,))\n",
    "        # compute the norm of the gradient\n",
    "        for p in net.parameters():\n",
    "            tot_gnorm += torch.sum(p.grad.data**2)\n",
    "        tot_gnorm = torch.sqrt(tot_gnorm)\n",
    "        \n",
    "        g_div = torch.max(torch.FloatTensor((self.max_grad_norm,)), tot_gnorm)\n",
    "        \n",
    "        for i, p in enumerate(net.parameters()):\n",
    "            g = p.grad.data / g_div\n",
    "            #TODO: weight decay\n",
    "            self.gnorms[i] *= self.RMSProp_dec_rate\n",
    "            self.gnorms[i] += (1.0 - self.RMSProp_dec_rate) * g**2\n",
    "            p.data -= self.lrate * g / torch.sqrt(self.gnorms[i] + self.RMSProp_epsilon)\n",
    "        return loss.data[0], tot_gnorm[0]"
   ]
  },
  {
   "cell_type": "markdown",
   "metadata": {},
   "source": [
    "# Exploration of various problems with RNN training\n",
    "\n",
    "In the following cell you can implement with various ways of providing supervision to the network (which one is easier to train - when the net recieves feedback after each step or whn it recieves feedback only at the end of training?), changing the gradient clipping and playing with a curriculum.\n",
    "\n",
    "Notice the dynamics of training - at the beginning the network does very little. The, suddenly it notices the input-output relationship from which point training starts to progress very quickly."
   ]
  },
  {
   "cell_type": "code",
   "execution_count": 54,
   "metadata": {},
   "outputs": [
    {
     "name": "stdout",
     "output_type": "stream",
     "text": [
      "0 (0.25732627511024475, 0.08379088342189789)\n",
      "500 (0.25693824887275696, 0.04508886858820915)\n",
      "1000 (0.24951350688934326, 0.006582588888704777)\n",
      "1500 (0.24370935559272766, 0.12872189283370972)\n",
      "2000 (0.24369142949581146, 0.008430727757513523)\n",
      "2500 (0.22357340157032013, 0.03397641330957413)\n",
      "3000 (0.20257297158241272, 0.02979537472128868)\n",
      "3500 (0.19381365180015564, 0.02311432920396328)\n",
      "4000 (0.17163842916488647, 0.03057691641151905)\n",
      "4500 (0.0020587092731148005, 0.001996203325688839)\n",
      "5000 (0.0006739101954735816, 0.0007265237509272993)\n",
      "5500 (0.00034291495103389025, 0.0004969764850102365)\n",
      "6000 (0.00029793783323839307, 0.0002611169184092432)\n"
     ]
    },
    {
     "ename": "KeyboardInterrupt",
     "evalue": "",
     "output_type": "error",
     "traceback": [
      "\u001b[0;31m---------------------------------------------------------------------------\u001b[0m",
      "\u001b[0;31mKeyboardInterrupt\u001b[0m                         Traceback (most recent call last)",
      "\u001b[0;32m<ipython-input-54-43278ef13ad6>\u001b[0m in \u001b[0;36m<module>\u001b[0;34m()\u001b[0m\n\u001b[1;32m     21\u001b[0m \u001b[0;32mfor\u001b[0m \u001b[0mi\u001b[0m \u001b[0;32min\u001b[0m \u001b[0mrange\u001b[0m\u001b[0;34m(\u001b[0m\u001b[0;36m100000\u001b[0m\u001b[0;34m)\u001b[0m\u001b[0;34m:\u001b[0m\u001b[0;34m\u001b[0m\u001b[0m\n\u001b[1;32m     22\u001b[0m     \u001b[0mXp\u001b[0m\u001b[0;34m,\u001b[0m \u001b[0mYp\u001b[0m \u001b[0;34m=\u001b[0m \u001b[0mgen_parity_examples\u001b[0m\u001b[0;34m(\u001b[0m\u001b[0mseq_len\u001b[0m\u001b[0;34m,\u001b[0m \u001b[0;36m10\u001b[0m\u001b[0;34m)\u001b[0m\u001b[0;34m\u001b[0m\u001b[0m\n\u001b[0;32m---> 23\u001b[0;31m     \u001b[0mret\u001b[0m \u001b[0;34m=\u001b[0m \u001b[0mparity_trainer\u001b[0m\u001b[0;34m.\u001b[0m\u001b[0mtrain_step\u001b[0m\u001b[0;34m(\u001b[0m\u001b[0mXp\u001b[0m\u001b[0;34m,\u001b[0m \u001b[0mYp\u001b[0m\u001b[0;34m)\u001b[0m\u001b[0;34m\u001b[0m\u001b[0m\n\u001b[0m\u001b[1;32m     24\u001b[0m     \u001b[0mlosses\u001b[0m\u001b[0;34m.\u001b[0m\u001b[0mappend\u001b[0m\u001b[0;34m(\u001b[0m\u001b[0;34m(\u001b[0m\u001b[0mi\u001b[0m\u001b[0;34m,\u001b[0m\u001b[0;34m)\u001b[0m \u001b[0;34m+\u001b[0m \u001b[0mtuple\u001b[0m\u001b[0;34m(\u001b[0m\u001b[0mret\u001b[0m\u001b[0;34m)\u001b[0m\u001b[0;34m)\u001b[0m\u001b[0;34m\u001b[0m\u001b[0m\n\u001b[1;32m     25\u001b[0m     \u001b[0;32mif\u001b[0m \u001b[0mret\u001b[0m\u001b[0;34m[\u001b[0m\u001b[0;36m0\u001b[0m\u001b[0;34m]\u001b[0m\u001b[0;34m<\u001b[0m\u001b[0;36m1e-4\u001b[0m\u001b[0;34m:\u001b[0m\u001b[0;34m\u001b[0m\u001b[0m\n",
      "\u001b[0;32m<ipython-input-45-0c02d5fd5a95>\u001b[0m in \u001b[0;36mtrain_step\u001b[0;34m(self, X, Y)\u001b[0m\n\u001b[1;32m     39\u001b[0m         \u001b[0mg_div\u001b[0m \u001b[0;34m=\u001b[0m \u001b[0mtorch\u001b[0m\u001b[0;34m.\u001b[0m\u001b[0mmax\u001b[0m\u001b[0;34m(\u001b[0m\u001b[0mtorch\u001b[0m\u001b[0;34m.\u001b[0m\u001b[0mFloatTensor\u001b[0m\u001b[0;34m(\u001b[0m\u001b[0;34m(\u001b[0m\u001b[0;36m1.0\u001b[0m\u001b[0;34m,\u001b[0m\u001b[0;34m)\u001b[0m\u001b[0;34m)\u001b[0m\u001b[0;34m,\u001b[0m \u001b[0mtot_gnorm\u001b[0m\u001b[0;34m)\u001b[0m\u001b[0;34m\u001b[0m\u001b[0m\n\u001b[1;32m     40\u001b[0m \u001b[0;34m\u001b[0m\u001b[0m\n\u001b[0;32m---> 41\u001b[0;31m         \u001b[0;32mfor\u001b[0m \u001b[0mi\u001b[0m\u001b[0;34m,\u001b[0m \u001b[0mp\u001b[0m \u001b[0;32min\u001b[0m \u001b[0menumerate\u001b[0m\u001b[0;34m(\u001b[0m\u001b[0mnet\u001b[0m\u001b[0;34m.\u001b[0m\u001b[0mparameters\u001b[0m\u001b[0;34m(\u001b[0m\u001b[0;34m)\u001b[0m\u001b[0;34m)\u001b[0m\u001b[0;34m:\u001b[0m\u001b[0;34m\u001b[0m\u001b[0m\n\u001b[0m\u001b[1;32m     42\u001b[0m             \u001b[0mg\u001b[0m \u001b[0;34m=\u001b[0m \u001b[0mp\u001b[0m\u001b[0;34m.\u001b[0m\u001b[0mgrad\u001b[0m\u001b[0;34m.\u001b[0m\u001b[0mdata\u001b[0m \u001b[0;34m/\u001b[0m \u001b[0mg_div\u001b[0m\u001b[0;34m\u001b[0m\u001b[0m\n\u001b[1;32m     43\u001b[0m             \u001b[0;31m#TODO: weight decay\u001b[0m\u001b[0;34m\u001b[0m\u001b[0;34m\u001b[0m\u001b[0m\n",
      "\u001b[0;32m/home/jch/anaconda3/lib/python3.6/site-packages/torch/nn/modules/module.py\u001b[0m in \u001b[0;36mparameters\u001b[0;34m(self)\u001b[0m\n\u001b[1;32m    380\u001b[0m             \u001b[0;34m<\u001b[0m\u001b[0;32mclass\u001b[0m \u001b[0;34m'torch.FloatTensor'\u001b[0m\u001b[0;34m>\u001b[0m \u001b[0;34m(\u001b[0m\u001b[0;36m20\u001b[0m\u001b[0mL\u001b[0m\u001b[0;34m,\u001b[0m \u001b[0;36m1\u001b[0m\u001b[0mL\u001b[0m\u001b[0;34m,\u001b[0m \u001b[0;36m5\u001b[0m\u001b[0mL\u001b[0m\u001b[0;34m,\u001b[0m \u001b[0;36m5\u001b[0m\u001b[0mL\u001b[0m\u001b[0;34m)\u001b[0m\u001b[0;34m\u001b[0m\u001b[0m\n\u001b[1;32m    381\u001b[0m         \"\"\"\n\u001b[0;32m--> 382\u001b[0;31m         \u001b[0;32mfor\u001b[0m \u001b[0mname\u001b[0m\u001b[0;34m,\u001b[0m \u001b[0mparam\u001b[0m \u001b[0;32min\u001b[0m \u001b[0mself\u001b[0m\u001b[0;34m.\u001b[0m\u001b[0mnamed_parameters\u001b[0m\u001b[0;34m(\u001b[0m\u001b[0;34m)\u001b[0m\u001b[0;34m:\u001b[0m\u001b[0;34m\u001b[0m\u001b[0m\n\u001b[0m\u001b[1;32m    383\u001b[0m             \u001b[0;32myield\u001b[0m \u001b[0mparam\u001b[0m\u001b[0;34m\u001b[0m\u001b[0m\n\u001b[1;32m    384\u001b[0m \u001b[0;34m\u001b[0m\u001b[0m\n",
      "\u001b[0;32m/home/jch/anaconda3/lib/python3.6/site-packages/torch/nn/modules/module.py\u001b[0m in \u001b[0;36mnamed_parameters\u001b[0;34m(self, memo, prefix)\u001b[0m\n\u001b[1;32m    400\u001b[0m         \u001b[0;32mfor\u001b[0m \u001b[0mmname\u001b[0m\u001b[0;34m,\u001b[0m \u001b[0mmodule\u001b[0m \u001b[0;32min\u001b[0m \u001b[0mself\u001b[0m\u001b[0;34m.\u001b[0m\u001b[0mnamed_children\u001b[0m\u001b[0;34m(\u001b[0m\u001b[0;34m)\u001b[0m\u001b[0;34m:\u001b[0m\u001b[0;34m\u001b[0m\u001b[0m\n\u001b[1;32m    401\u001b[0m             \u001b[0msubmodule_prefix\u001b[0m \u001b[0;34m=\u001b[0m \u001b[0mprefix\u001b[0m \u001b[0;34m+\u001b[0m \u001b[0;34m(\u001b[0m\u001b[0;34m'.'\u001b[0m \u001b[0;32mif\u001b[0m \u001b[0mprefix\u001b[0m \u001b[0;32melse\u001b[0m \u001b[0;34m''\u001b[0m\u001b[0;34m)\u001b[0m \u001b[0;34m+\u001b[0m \u001b[0mmname\u001b[0m\u001b[0;34m\u001b[0m\u001b[0m\n\u001b[0;32m--> 402\u001b[0;31m             \u001b[0;32mfor\u001b[0m \u001b[0mname\u001b[0m\u001b[0;34m,\u001b[0m \u001b[0mp\u001b[0m \u001b[0;32min\u001b[0m \u001b[0mmodule\u001b[0m\u001b[0;34m.\u001b[0m\u001b[0mnamed_parameters\u001b[0m\u001b[0;34m(\u001b[0m\u001b[0mmemo\u001b[0m\u001b[0;34m,\u001b[0m \u001b[0msubmodule_prefix\u001b[0m\u001b[0;34m)\u001b[0m\u001b[0;34m:\u001b[0m\u001b[0;34m\u001b[0m\u001b[0m\n\u001b[0m\u001b[1;32m    403\u001b[0m                 \u001b[0;32myield\u001b[0m \u001b[0mname\u001b[0m\u001b[0;34m,\u001b[0m \u001b[0mp\u001b[0m\u001b[0;34m\u001b[0m\u001b[0m\n\u001b[1;32m    404\u001b[0m \u001b[0;34m\u001b[0m\u001b[0m\n",
      "\u001b[0;32m/home/jch/anaconda3/lib/python3.6/site-packages/torch/nn/modules/module.py\u001b[0m in \u001b[0;36mnamed_parameters\u001b[0;34m(self, memo, prefix)\u001b[0m\n\u001b[1;32m    400\u001b[0m         \u001b[0;32mfor\u001b[0m \u001b[0mmname\u001b[0m\u001b[0;34m,\u001b[0m \u001b[0mmodule\u001b[0m \u001b[0;32min\u001b[0m \u001b[0mself\u001b[0m\u001b[0;34m.\u001b[0m\u001b[0mnamed_children\u001b[0m\u001b[0;34m(\u001b[0m\u001b[0;34m)\u001b[0m\u001b[0;34m:\u001b[0m\u001b[0;34m\u001b[0m\u001b[0m\n\u001b[1;32m    401\u001b[0m             \u001b[0msubmodule_prefix\u001b[0m \u001b[0;34m=\u001b[0m \u001b[0mprefix\u001b[0m \u001b[0;34m+\u001b[0m \u001b[0;34m(\u001b[0m\u001b[0;34m'.'\u001b[0m \u001b[0;32mif\u001b[0m \u001b[0mprefix\u001b[0m \u001b[0;32melse\u001b[0m \u001b[0;34m''\u001b[0m\u001b[0;34m)\u001b[0m \u001b[0;34m+\u001b[0m \u001b[0mmname\u001b[0m\u001b[0;34m\u001b[0m\u001b[0m\n\u001b[0;32m--> 402\u001b[0;31m             \u001b[0;32mfor\u001b[0m \u001b[0mname\u001b[0m\u001b[0;34m,\u001b[0m \u001b[0mp\u001b[0m \u001b[0;32min\u001b[0m \u001b[0mmodule\u001b[0m\u001b[0;34m.\u001b[0m\u001b[0mnamed_parameters\u001b[0m\u001b[0;34m(\u001b[0m\u001b[0mmemo\u001b[0m\u001b[0;34m,\u001b[0m \u001b[0msubmodule_prefix\u001b[0m\u001b[0;34m)\u001b[0m\u001b[0;34m:\u001b[0m\u001b[0;34m\u001b[0m\u001b[0m\n\u001b[0m\u001b[1;32m    403\u001b[0m                 \u001b[0;32myield\u001b[0m \u001b[0mname\u001b[0m\u001b[0;34m,\u001b[0m \u001b[0mp\u001b[0m\u001b[0;34m\u001b[0m\u001b[0m\n\u001b[1;32m    404\u001b[0m \u001b[0;34m\u001b[0m\u001b[0m\n",
      "\u001b[0;32m/home/jch/anaconda3/lib/python3.6/site-packages/torch/nn/modules/module.py\u001b[0m in \u001b[0;36mnamed_parameters\u001b[0;34m(self, memo, prefix)\u001b[0m\n\u001b[1;32m    398\u001b[0m                 \u001b[0mmemo\u001b[0m\u001b[0;34m.\u001b[0m\u001b[0madd\u001b[0m\u001b[0;34m(\u001b[0m\u001b[0mp\u001b[0m\u001b[0;34m)\u001b[0m\u001b[0;34m\u001b[0m\u001b[0m\n\u001b[1;32m    399\u001b[0m                 \u001b[0;32myield\u001b[0m \u001b[0mprefix\u001b[0m \u001b[0;34m+\u001b[0m \u001b[0;34m(\u001b[0m\u001b[0;34m'.'\u001b[0m \u001b[0;32mif\u001b[0m \u001b[0mprefix\u001b[0m \u001b[0;32melse\u001b[0m \u001b[0;34m''\u001b[0m\u001b[0;34m)\u001b[0m \u001b[0;34m+\u001b[0m \u001b[0mname\u001b[0m\u001b[0;34m,\u001b[0m \u001b[0mp\u001b[0m\u001b[0;34m\u001b[0m\u001b[0m\n\u001b[0;32m--> 400\u001b[0;31m         \u001b[0;32mfor\u001b[0m \u001b[0mmname\u001b[0m\u001b[0;34m,\u001b[0m \u001b[0mmodule\u001b[0m \u001b[0;32min\u001b[0m \u001b[0mself\u001b[0m\u001b[0;34m.\u001b[0m\u001b[0mnamed_children\u001b[0m\u001b[0;34m(\u001b[0m\u001b[0;34m)\u001b[0m\u001b[0;34m:\u001b[0m\u001b[0;34m\u001b[0m\u001b[0m\n\u001b[0m\u001b[1;32m    401\u001b[0m             \u001b[0msubmodule_prefix\u001b[0m \u001b[0;34m=\u001b[0m \u001b[0mprefix\u001b[0m \u001b[0;34m+\u001b[0m \u001b[0;34m(\u001b[0m\u001b[0;34m'.'\u001b[0m \u001b[0;32mif\u001b[0m \u001b[0mprefix\u001b[0m \u001b[0;32melse\u001b[0m \u001b[0;34m''\u001b[0m\u001b[0;34m)\u001b[0m \u001b[0;34m+\u001b[0m \u001b[0mmname\u001b[0m\u001b[0;34m\u001b[0m\u001b[0m\n\u001b[1;32m    402\u001b[0m             \u001b[0;32mfor\u001b[0m \u001b[0mname\u001b[0m\u001b[0;34m,\u001b[0m \u001b[0mp\u001b[0m \u001b[0;32min\u001b[0m \u001b[0mmodule\u001b[0m\u001b[0;34m.\u001b[0m\u001b[0mnamed_parameters\u001b[0m\u001b[0;34m(\u001b[0m\u001b[0mmemo\u001b[0m\u001b[0;34m,\u001b[0m \u001b[0msubmodule_prefix\u001b[0m\u001b[0;34m)\u001b[0m\u001b[0;34m:\u001b[0m\u001b[0;34m\u001b[0m\u001b[0m\n",
      "\u001b[0;31mKeyboardInterrupt\u001b[0m: "
     ]
    }
   ],
   "source": [
    "parity_net = ParityNet(hidden_dim=10)\n",
    "parity_trainer = Trainer(parity_net)\n",
    "\n",
    "# you can tweek the learning rate. 1e-2 worked best for me\n",
    "parity_trainer.lrate = 1e-2\n",
    "\n",
    "losses = []\n",
    "\n",
    "# when set to 1 the net recieves an error signal after each step\n",
    "# when set to 0 the net recieves an error signal only once at the end\n",
    "parity_trainer.full_sup = False\n",
    "\n",
    "# without full_supervision it doesn't train for sequences longer than 3\n",
    "seq_len = 10\n",
    "\n",
    "# this enables \"curriculum learning\" - we gradually train on \n",
    "# longer and longer sequences\n",
    "#\n",
    "max_seq_len = 1\n",
    "\n",
    "for i in range(100000):\n",
    "    Xp, Yp = gen_parity_examples(seq_len, 10)\n",
    "    ret = parity_trainer.train_step(Xp, Yp)\n",
    "    losses.append((i,) + tuple(ret))\n",
    "    if ret[0]<1e-4:\n",
    "        seq_len += 1\n",
    "        if seq_len>max_seq_len:\n",
    "            break\n",
    "        print(i, \"Increasing seq length to: \", seq_len)\n",
    "    if i%500 == 0:\n",
    "        print(i, ret)\n",
    "    \n",
    "losses_a = np.array(losses)\n",
    "\n",
    "semilogy(losses_a[:,0], losses_a[:,1], label='loss')\n",
    "semilogy(losses_a[:,0], losses_a[:,2], label='grad norm', alpha=0.5)\n",
    "\n",
    "legend(loc='lower left')\n",
    "title('Training loss')\n",
    "xlabel('iteration')"
   ]
  },
  {
   "cell_type": "code",
   "execution_count": 48,
   "metadata": {},
   "outputs": [
    {
     "name": "stdout",
     "output_type": "stream",
     "text": [
      "        X:  [ 1.  1.  1.  0.  1.  0.  0.  0.  0.  1.  1.  0.  0.  0.  1.  0.  0.  0.]\n",
      "predicted:  [ 1.  0.  0.  1.  1.  1.  0.  0.  0.  1.  0.  1.  0.  0.  1.  1.  0.  0.]\n",
      "        Y:  [ 1.  0.  1.  1.  0.  0.  0.  0.  0.  1.  0.  0.  0.  0.  1.  1.  1.  1.]\n"
     ]
    }
   ],
   "source": [
    "Xp,Yp = gen_parity_examples(18, 1)\n",
    "predictions = parity_net(V(Xp)).data.numpy().squeeze()\n",
    "print('        X: ', Xp.squeeze())\n",
    "print('predicted: ', np.round(predictions))\n",
    "print('        Y: ', Yp.squeeze())"
   ]
  },
  {
   "cell_type": "code",
   "execution_count": 49,
   "metadata": {},
   "outputs": [
    {
     "name": "stdout",
     "output_type": "stream",
     "text": [
      "loss 22996.8\n",
      "err_rate 0.49676\n"
     ]
    }
   ],
   "source": [
    "Xp, Yp = gen_parity_examples(500, 100)\n",
    "P = parity_net(V(Xp))\n",
    "print('loss', np.sum((Yp.squeeze() - P.data.numpy().squeeze())**2))\n",
    "print('err_rate', (Yp.squeeze() != np.round(P.data.numpy().squeeze())).mean())"
   ]
  },
  {
   "cell_type": "markdown",
   "metadata": {},
   "source": [
    "# Addition task\n",
    "\n",
    "Here we explore the task of adding two inputs marked by a binary inicators. This is a difficult task, because the net must learn to ignore the spurious inputs and to discover the relationship between the desired output and two distant time steps."
   ]
  },
  {
   "cell_type": "code",
   "execution_count": 19,
   "metadata": {},
   "outputs": [
    {
     "name": "stdout",
     "output_type": "stream",
     "text": [
      "X: [[ 1.          0.47704914]\n",
      " [ 0.          0.44842863]\n",
      " [ 1.          0.23004869]\n",
      " [ 0.          0.62760085]\n",
      " [ 0.          0.19760039]\n",
      " [ 0.          0.36385655]\n",
      " [ 0.          0.63792521]\n",
      " [ 0.          0.46334672]\n",
      " [ 0.          0.56075335]\n",
      " [ 0.          0.22399838]] \n",
      "Y: [ 0.35354891]\n"
     ]
    }
   ],
   "source": [
    "# adapted from \n",
    "# https://github.com/pascanur/trainingRNNs/blob/master/addition.py\n",
    "def gen_addition_example(T, batchsize):\n",
    "    rng = numpy.random\n",
    "    \n",
    "    l = rng.randint(T, int(T * 1.1+0.9))\n",
    "    p0 = rng.randint(0, int(l*.1), size=(batchsize,))\n",
    "    p1 = rng.randint(0, int(l*.4), size=(batchsize,)) + int(l*.1)\n",
    "    \n",
    "    X = rng.uniform(size=(l, batchsize, 2)).astype('float32')\n",
    "    X[:,:,0] = 0.\n",
    "    X[p0, numpy.arange(batchsize), numpy.zeros((batchsize,),\n",
    "                                                dtype='int32')] = 1.\n",
    "    X[p1, numpy.arange(batchsize), numpy.zeros((batchsize,),\n",
    "                                                dtype='int32')] = 1.\n",
    "\n",
    "    Y = (X[p0, numpy.arange(batchsize),\n",
    "           numpy.ones((batchsize,), dtype='int32')] + \\\n",
    "         X[p1, numpy.arange(batchsize),\n",
    "           numpy.ones((batchsize,), dtype='int32')])/2.\n",
    "    return X, Y.reshape((1, -1, 1)).astype('float32')\n",
    "\n",
    "Xa,Ya = gen_addition_example(10, 3)\n",
    "print('X:', Xa[:,0,:], '\\nY:', Ya[0, 0,:])"
   ]
  },
  {
   "cell_type": "code",
   "execution_count": 20,
   "metadata": {
    "collapsed": true
   },
   "outputs": [],
   "source": [
    "class LSTMCell(torch.nn.Module):\n",
    "    \"\"\"\n",
    "    Implementation follows Alex Graves, Abdel-rahman Mohamed and Geoffrey Hinton\n",
    "    \"SPEECH RECOGNITION WITH DEEP RECURRENT NEURAL NETWORKS\"\n",
    "    http://www.cs.toronto.edu/~fritz/absps/RNN13.pdf\n",
    "    \"\"\"\n",
    "    def __init__(self, in_dim, hidden_dim, **kwargs):\n",
    "        super(LSTMCell, self).__init__(**kwargs)\n",
    "        self.in_to_gates = torch.nn.Linear(in_dim, hidden_dim * 4, bias=True)\n",
    "        self.hidden_to_gates = torch.nn.Linear(hidden_dim, hidden_dim * 4, bias=False)\n",
    "    \n",
    "        \n",
    "    def forward(self, input, hidden):\n",
    "        # TODO: add connections from the cell values\n",
    "        hx, cx = hidden\n",
    "        gates = self.in_to_gates(input) + self.hidden_to_gates(hx)\n",
    "        \n",
    "        ingate, forgetgate, cellgate, outgate = gates.chunk(4, 1)\n",
    "        ingate = F.sigmoid(ingate)\n",
    "        forgetgate = F.sigmoid(forgetgate + 1.0)\n",
    "        cellgate = F.tanh(cellgate)\n",
    "        outgate = F.sigmoid(outgate)\n",
    "\n",
    "        cy = (forgetgate * cx) + (ingate * cellgate)\n",
    "        hy = outgate * F.tanh(cy)\n",
    "        return hy, cy"
   ]
  },
  {
   "cell_type": "code",
   "execution_count": 21,
   "metadata": {
    "collapsed": true
   },
   "outputs": [],
   "source": [
    "class AdditionNet(torch.nn.Module):\n",
    "    def __init__(self, hidden_dim, use_lstm=True,\n",
    "                 **kwargs):\n",
    "        super(AdditionNet, self).__init__(**kwargs)\n",
    "        self.use_lstm = use_lstm\n",
    "        self.recs = []\n",
    "        \n",
    "        self.use_lstm = use_lstm\n",
    "        self.hidden_dim = hidden_dim\n",
    "        in_dim = 2\n",
    "        if use_lstm:\n",
    "            cell = LSTMCell(in_dim=in_dim, hidden_dim=hidden_dim)\n",
    "        else:\n",
    "            cell = SimpleRNNCell(in_dim=in_dim, hidden_dim=hidden_dim)\n",
    "        self.rnn = RNN(cell)\n",
    "        \n",
    "        self.linear = torch.nn.Linear(in_dim + hidden_dim, 1)\n",
    "    \n",
    "    def forward(self, inputs):\n",
    "        if self.use_lstm:\n",
    "            h0 = [V(np.zeros((inputs.size(1), self.hidden_dim),\n",
    "                              dtype='float32'))\n",
    "                 for _ in range(2)]\n",
    "        else:\n",
    "            h0 = V(np.zeros((inputs.size(1), self.hidden_dim),\n",
    "                             dtype='float32'))\n",
    "        _, H = self.rnn(inputs, h0)\n",
    "        # concatenate inputs and hidden states\n",
    "        inputs_and_H = torch.cat((inputs, H), dim=2)\n",
    "        return self.linear(inputs_and_H)"
   ]
  },
  {
   "cell_type": "code",
   "execution_count": 22,
   "metadata": {},
   "outputs": [
    {
     "data": {
      "text/plain": [
       "0.042333862524130746"
      ]
     },
     "execution_count": 22,
     "metadata": {},
     "output_type": "execute_result"
    }
   ],
   "source": [
    "# How large an error do we expect?\n",
    "\n",
    "((np.random.rand(2, 100).sum(0) * 0.5 - 0.5)**2).mean()"
   ]
  },
  {
   "cell_type": "code",
   "execution_count": 37,
   "metadata": {
    "scrolled": false
   },
   "outputs": [
    {
     "name": "stdout",
     "output_type": "stream",
     "text": [
      "0 (0.29333147406578064, 1.788282871246338)\n",
      "200 (0.02824277989566326, 0.09064994007349014)\n",
      "400 (0.022798040881752968, 0.44161397218704224)\n",
      "600 (0.008114969357848167, 0.19528204202651978)\n",
      "800 (0.01131235808134079, 0.43403348326683044)\n",
      "1000 (0.0038368389941751957, 0.22313722968101501)\n",
      "1200 (0.0011022104881703854, 0.1289232075214386)\n",
      "1400 (0.0010852600680664182, 0.07656286656856537)\n",
      "1600 (0.0024847988970577717, 0.2423761636018753)\n",
      "1800 (0.00037326160236261785, 0.007126002572476864)\n",
      "2000 (0.004979523830115795, 0.3844037353992462)\n",
      "2200 (0.0005503584397956729, 0.03304217383265495)\n",
      "2400 (0.0007863313076086342, 0.06580955535173416)\n",
      "2600 (0.0015656036557629704, 0.16541653871536255)\n",
      "2800 (0.0015155250439420342, 0.1558847427368164)\n",
      "3000 (0.003407458309084177, 0.212800994515419)\n",
      "3200 (0.0034086687956005335, 0.2860262095928192)\n",
      "3400 (0.001506257918663323, 0.13912461698055267)\n",
      "3600 (0.0008487891755066812, 0.11162377893924713)\n",
      "3800 (0.001071209437213838, 0.13396330177783966)\n",
      "4000 (0.0001568526349728927, 0.01530463621020317)\n",
      "4200 (0.00022644932323601097, 0.0385984368622303)\n",
      "4400 (0.0006098942249082029, 0.08688578009605408)\n",
      "4552 Increasing seq length to:  25\n",
      "4600 (0.0012352456105872989, 0.1454736888408661)\n",
      "4800 (0.00020324763318058103, 0.03627166152000427)\n",
      "5000 (0.0013352022506296635, 0.16404473781585693)\n",
      "5200 (0.004868864547461271, 0.29549694061279297)\n",
      "5400 (0.0013690005289390683, 0.1333848387002945)\n",
      "5600 (0.0003806452441494912, 0.0534818209707737)\n",
      "5715 Increasing seq length to:  30\n",
      "5800 (0.00042644410859793425, 0.06962330639362335)\n",
      "6000 (0.00017695101269055158, 0.01228462252765894)\n",
      "6200 (0.001134903752245009, 0.12148590385913849)\n",
      "6400 (0.003219770500436425, 0.2369624227285385)\n",
      "6413 Increasing seq length to:  35\n",
      "6600 (0.0004538220528047532, 0.054878540337085724)\n",
      "6690 Increasing seq length to:  40\n",
      "6800 (0.00034078824683092535, 0.05169210955500603)\n",
      "7000 (0.0013634150382131338, 0.05434112623333931)\n",
      "7200 (0.0002833690959960222, 0.012322762981057167)\n",
      "7400 (0.00042968703201040626, 0.05154545232653618)\n",
      "7600 (0.002058387268334627, 0.15569937229156494)\n",
      "7800 (0.000192257619346492, 0.024197425693273544)\n",
      "8000 (0.00022682060080114752, 0.02528333105146885)\n",
      "8200 (0.0006620926433242857, 0.09386477619409561)\n",
      "8400 (0.0008387150592170656, 0.0883481502532959)\n",
      "8596 Increasing seq length to:  45\n",
      "8600 (0.0006431101937778294, 0.11165616661310196)\n",
      "8800 (0.0004399361787363887, 0.013869119808077812)\n",
      "9000 (0.00018597875896375626, 0.02063874527812004)\n",
      "9150 Increasing seq length to:  50\n",
      "9200 (0.00020388343546073884, 0.0036448403261601925)\n",
      "9400 (0.0003157473402097821, 0.04810507595539093)\n",
      "9600 (0.002094917930662632, 0.1933705359697342)\n",
      "9800 (0.0006664256216026843, 0.08447370678186417)\n",
      "10000 (0.0010346476919949055, 0.11067233979701996)\n",
      "10200 (0.00023087093723006546, 0.023546818643808365)\n",
      "10400 (0.001634139334782958, 0.03668975830078125)\n",
      "10600 (0.0002823065151460469, 0.061867110431194305)\n",
      "10800 (0.00013120438961777836, 0.012295546010136604)\n",
      "11000 (0.00012035672989441082, 0.012758427299559116)\n",
      "11039 Increasing seq length to:  55\n",
      "11200 (0.0005988843040540814, 0.08109930902719498)\n",
      "11362 Increasing seq length to:  60\n",
      "11400 (0.0002428664593026042, 0.0321333147585392)\n",
      "11600 (0.00013286594185046852, 0.012760858982801437)\n",
      "11765 Increasing seq length to:  65\n",
      "11800 (0.0005284918588586152, 0.06737330555915833)\n",
      "12000 (0.0022587229032069445, 0.18199893832206726)\n",
      "12028 Increasing seq length to:  70\n",
      "12200 (0.00046524277422577143, 0.07215200364589691)\n",
      "12247 Increasing seq length to:  75\n",
      "12400 (0.005130684934556484, 0.21884015202522278)\n",
      "12600 (0.0009214745368808508, 0.11677952855825424)\n",
      "12800 (0.00013101364311296493, 0.005422488320618868)\n",
      "12990 Increasing seq length to:  80\n",
      "13000 (0.001965161180123687, 0.15497355163097382)\n",
      "13200 (0.00043371893116272986, 0.048139218240976334)\n",
      "13400 (0.0007119388901628554, 0.08254066854715347)\n",
      "13592 Increasing seq length to:  85\n",
      "13600 (0.0004079030768480152, 0.0743820071220398)\n",
      "13800 (0.00033060775604099035, 0.0225111972540617)\n",
      "13948 Increasing seq length to:  90\n",
      "14000 (0.0018567306688055396, 0.18687990307807922)\n",
      "14106 Increasing seq length to:  95\n",
      "14200 (0.00016366792260669172, 0.016180867329239845)\n",
      "14400 (0.000404689519200474, 0.049299053847789764)\n",
      "14471 Increasing seq length to:  100\n",
      "14600 (0.00019803718896582723, 0.02091192826628685)\n",
      "14800 (0.0005568555206991732, 0.08561602234840393)\n",
      "14915 Increasing seq length to:  105\n",
      "14973 Increasing seq length to:  110\n",
      "15000 (0.0018255810718983412, 0.1738843470811844)\n",
      "15049 Increasing seq length to:  115\n",
      "15200 (0.00042922273860313, 0.04830048233270645)\n",
      "15327 Increasing seq length to:  120\n",
      "15400 (0.00027800985844805837, 0.03698224201798439)\n",
      "15600 (0.006621663924306631, 0.41287049651145935)\n",
      "15800 (0.0009255870245397091, 0.1272912323474884)\n",
      "16000 (0.0014363487716764212, 0.1429402381181717)\n",
      "16200 (0.0003270000161137432, 0.0431467741727829)\n",
      "16366 Increasing seq length to:  125\n",
      "16400 (0.00038420723285526037, 0.04861696809530258)\n",
      "16600 (0.00022306691971607506, 0.0066935778595507145)\n",
      "16613 Increasing seq length to:  130\n",
      "16637 Increasing seq length to:  135\n",
      "16800 (0.00013625447172671556, 0.012882145121693611)\n",
      "16900 Increasing seq length to:  140\n",
      "17000 (0.000783295719884336, 0.12659244239330292)\n",
      "17200 (0.000474836298963055, 0.06229844689369202)\n",
      "17285 Increasing seq length to:  145\n",
      "17400 (0.0006626973627135158, 0.07962077111005783)\n",
      "17600 (0.0016699411207810044, 0.16675274074077606)\n",
      "17666 Increasing seq length to:  150\n",
      "17790 Increasing seq length to:  155\n",
      "17800 (0.005106846336275339, 0.257977694272995)\n",
      "17846 Increasing seq length to:  160\n",
      "18000 (0.00037193280877545476, 0.06440674513578415)\n",
      "18042 Increasing seq length to:  165\n",
      "18200 (0.00035470243892632425, 0.04381584748625755)\n",
      "18398 Increasing seq length to:  170\n",
      "18400 (0.00021379909594543278, 0.027914274483919144)\n",
      "18430 Increasing seq length to:  175\n",
      "18600 (0.0004458767652977258, 0.08250121772289276)\n",
      "18800 (0.001936924527399242, 0.1441662609577179)\n",
      "18842 Increasing seq length to:  180\n",
      "19000 (0.004193097818642855, 0.3100302517414093)\n",
      "19050 Increasing seq length to:  185\n",
      "19098 Increasing seq length to:  190\n",
      "19200 (0.0008806138066574931, 0.07363487780094147)\n",
      "19400 (0.0013086766703054309, 0.10827350616455078)\n",
      "19600 (0.0010992176830768585, 0.07959914207458496)\n",
      "19762 Increasing seq length to:  195\n",
      "19776 Increasing seq length to:  200\n",
      "19800 (0.0026303951162844896, 0.21561947464942932)\n",
      "20000 (0.0008807100239209831, 0.09433677792549133)\n"
     ]
    },
    {
     "data": {
      "text/plain": [
       "<matplotlib.text.Text at 0x7fe9504742b0>"
      ]
     },
     "execution_count": 37,
     "metadata": {},
     "output_type": "execute_result"
    },
    {
     "data": {
      "image/png": "[encoded data removed]",
      "text/plain": [
       "<matplotlib.figure.Figure at 0x7fe950337cc0>"
      ]
     },
     "metadata": {},
     "output_type": "display_data"
    }
   ],
   "source": [
    "addition_net = AdditionNet(hidden_dim=20, use_lstm=True)\n",
    "addition_trainer = Trainer(addition_net)\n",
    "addition_trainer.full_supervision = False\n",
    "\n",
    "# you can tweek the learning rate.\n",
    "if addition_net.use_lstm:\n",
    "    addition_trainer.lrate = 5e-3\n",
    "else:\n",
    "    addition_trainer.lrate= 1e-3\n",
    "addition_trainer.max_grad_norm = 3.\n",
    "# weight decay seems to be important for generalization\n",
    "# addition_trainer.wdec.set_value(1e-4)\n",
    "\n",
    "losses = []\n",
    "\n",
    "# without full_supervision it doesn't train for sequences longer than 3\n",
    "seq_len = 20\n",
    "\n",
    "# this enables \"curriculum learning\" - we gradually train on \n",
    "# longer and longer sequences\n",
    "#\n",
    "max_seq_len = 200\n",
    "\n",
    "for i in range(100000):\n",
    "    # note: we need to train on sequences of all lengths in order to\n",
    "    # prevent forgetting the solution on short sequences\n",
    "    this_len = np.random.randint(10, seq_len+1)\n",
    "    Xa, Ya = gen_addition_example(this_len, 100)\n",
    "    ret = addition_trainer.train_step(Xa, Ya)\n",
    "    losses.append((i,) + tuple(ret))\n",
    "    if this_len>seq_len*0.9 and ret[0] < 0.0002:\n",
    "        seq_len += 5\n",
    "        if seq_len>max_seq_len:\n",
    "            break\n",
    "        print(i, \"Increasing seq length to: \", seq_len)\n",
    "    if i%200 == 0:\n",
    "        print(i, ret)\n",
    "    \n",
    "losses_a = np.array(losses)\n",
    "\n",
    "semilogy(losses_a[:,0], losses_a[:,1], label='rms')\n",
    "semilogy(losses_a[:,0], losses_a[:,2], alpha=0.5, label='grad norm')\n",
    "\n",
    "legend(loc='lower left')\n",
    "title('Training loss')\n",
    "xlabel('iteration')"
   ]
  },
  {
   "cell_type": "code",
   "execution_count": 38,
   "metadata": {},
   "outputs": [
    {
     "data": {
      "text/plain": [
       "0.0010822577"
      ]
     },
     "execution_count": 38,
     "metadata": {},
     "output_type": "execute_result"
    }
   ],
   "source": [
    "Xa, Ya = gen_addition_example(1000,2000)\n",
    "P = addition_net(V(Xa))\n",
    "((P.data.numpy()[-1] - Ya[-1])**2).mean()"
   ]
  },
  {
   "cell_type": "code",
   "execution_count": null,
   "metadata": {
    "collapsed": true
   },
   "outputs": [],
   "source": []
  }
 ],
 "metadata": {
  "kernelspec": {
   "display_name": "Python 3",
   "language": "python",
   "name": "python3"
  },
  "language_info": {
   "codemirror_mode": {
    "name": "ipython",
    "version": 3
   },
   "file_extension": ".py",
   "mimetype": "text/x-python",
   "name": "python",
   "nbconvert_exporter": "python",
   "pygments_lexer": "ipython3",
   "version": "3.6.1"
  }
 },
 "nbformat": 4,
 "nbformat_minor": 1
}
